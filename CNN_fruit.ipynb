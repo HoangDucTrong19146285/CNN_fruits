{
  "nbformat": 4,
  "nbformat_minor": 0,
  "metadata": {
    "colab": {
      "name": "CNN_fruit.ipynb",
      "provenance": []
    },
    "kernelspec": {
      "name": "python3",
      "display_name": "Python 3"
    },
    "language_info": {
      "name": "python"
    },
    "accelerator": "GPU"
  },
  "cells": [
    {
      "cell_type": "code",
      "execution_count": 28,
      "metadata": {
        "id": "BIBaJTmV250U"
      },
      "outputs": [],
      "source": [
        "#Khởi tạo models \n",
        "\n",
        "import numpy as np\n",
        "import matplotlib.pyplot as plt\n",
        "from keras.layers import Dense,Activation,Dropout,Conv2D,MaxPooling2D,Flatten\n",
        "from keras.models import  Sequential\n",
        "import tensorflow as tf\n",
        "from tensorflow.keras.preprocessing.image import ImageDataGenerator\n",
        "from tensorflow.keras.preprocessing import image\n",
        "import pandas as pd\n",
        "from tensorflow.keras.models import load_model\n",
        "\n",
        "#import cv2  # import openCV\n",
        "#cv2.__version__"
      ]
    },
    {
      "cell_type": "code",
      "source": [
        "from google.colab import drive\n",
        "drive.mount('/content/drive/')\n",
        "train_dataset = ImageDataGenerator(\n",
        "    rescale=1. / 255,\n",
        "    shear_range=0.2,\n",
        "    zoom_range=0.2,\n",
        "horizontal_flip=True)\n",
        "validation_dataset = ImageDataGenerator(rescale=1./255)\n",
        "test_dataset = ImageDataGenerator(rescale=1./255)\n",
        "\n",
        "training_generator = train_dataset.flow_from_directory(\n",
        "                      '/content/drive/MyDrive/Colab Notebooks/Fruit/train',\n",
        "                        target_size=(60, 60),\n",
        "                        batch_size=50,\n",
        "                        class_mode=\"categorical\")\n",
        "validation_generator = validation_dataset.flow_from_directory(\n",
        "                        \"/content/drive/MyDrive/Colab Notebooks/Fruit/test\",\n",
        "                         target_size=(60, 60),\n",
        "                          batch_size=50,\n",
        "                          \n",
        "                         class_mode=\"categorical\")"
      ],
      "metadata": {
        "colab": {
          "base_uri": "https://localhost:8080/"
        },
        "id": "o41-tn9r26hP",
        "outputId": "90555ee5-7b87-4514-c653-3449857fe844"
      },
      "execution_count": 29,
      "outputs": [
        {
          "output_type": "stream",
          "name": "stdout",
          "text": [
            "Drive already mounted at /content/drive/; to attempt to forcibly remount, call drive.mount(\"/content/drive/\", force_remount=True).\n",
            "Found 4788 images belonging to 10 classes.\n",
            "Found 1606 images belonging to 10 classes.\n"
          ]
        }
      ]
    },
    {
      "cell_type": "code",
      "source": [
        "training_generator.class_indices"
      ],
      "metadata": {
        "colab": {
          "base_uri": "https://localhost:8080/"
        },
        "id": "Bo8b-cnt27-2",
        "outputId": "99ce5f40-7f6d-4186-d4c7-e54b464a837e"
      },
      "execution_count": 30,
      "outputs": [
        {
          "output_type": "execute_result",
          "data": {
            "text/plain": [
              "{'Banana': 0,\n",
              " 'Cherry 1': 1,\n",
              " 'Corn': 2,\n",
              " 'Limes': 3,\n",
              " 'Mandarine': 4,\n",
              " 'Raspberry': 5,\n",
              " 'Strawberry': 6,\n",
              " 'Watermelon': 7,\n",
              " 'qua_mo': 8,\n",
              " 'quả_bơ': 9}"
            ]
          },
          "metadata": {},
          "execution_count": 30
        }
      ]
    },
    {
      "cell_type": "code",
      "source": [
        "names= ['Banana','cherry','corn','limes','mandarine']"
      ],
      "metadata": {
        "id": "dym3HR4ZBWgY"
      },
      "execution_count": null,
      "outputs": []
    },
    {
      "cell_type": "code",
      "source": [
        "\n",
        "model=Sequential()\n",
        "model.add(Conv2D(32,(3,3),activation='relu',kernel_initializer='he_uniform',padding='same', input_shape=(60,60,3)))\n",
        "model.add(Conv2D(32,(3,3),activation='relu',kernel_initializer='he_uniform',padding='same'))\n",
        "#model.add(Dropout(0.3))\n",
        "model.add(MaxPooling2D((2,2)))\n",
        "model.add(Conv2D(64,(3,3),activation='relu',kernel_initializer='he_uniform',padding='same'))\n",
        "model.add(Conv2D(64,(3,3),activation='relu',kernel_initializer='he_uniform',padding='same'))\n",
        "model.add(MaxPooling2D((2,2)))\n",
        "\n",
        "model.add(Flatten())\n",
        "model.add(Dense(128,activation='relu',kernel_initializer='he_uniform'))\n",
        "model.add(Dropout(0.1))\n",
        "model.add(Dense(10,activation='softmax'))\n",
        "\n",
        "#compiling the model..\n",
        "#from tensorflow.keras.optimizers import SGD\n",
        "#opt = SGD(lr=0.01, momentum=0.9)\n",
        "#from keras.backend import categorical_crossentropy\n",
        "#model.compile(optimizer='adam',loss='categorical_crossentropy',metrics=['accuracy'])\n",
        "#model.compile(optimizer=opt,loss='categorical_crossentropy',metrics=['accuracy'])\n",
        "model.summary()\n",
        "from tensorflow.keras.optimizers import Adam\n",
        "opt = Adam(learning_rate=0.001)\n",
        "model.compile(loss='categorical_crossentropy',optimizer=opt,metrics=['accuracy'])\n"
      ],
      "metadata": {
        "colab": {
          "base_uri": "https://localhost:8080/"
        },
        "id": "WobaLp5T2973",
        "outputId": "3582e257-1e7d-4dca-864b-42db21c29920"
      },
      "execution_count": 31,
      "outputs": [
        {
          "output_type": "stream",
          "name": "stdout",
          "text": [
            "Model: \"sequential_5\"\n",
            "_________________________________________________________________\n",
            " Layer (type)                Output Shape              Param #   \n",
            "=================================================================\n",
            " conv2d_20 (Conv2D)          (None, 60, 60, 32)        896       \n",
            "                                                                 \n",
            " conv2d_21 (Conv2D)          (None, 60, 60, 32)        9248      \n",
            "                                                                 \n",
            " max_pooling2d_10 (MaxPoolin  (None, 30, 30, 32)       0         \n",
            " g2D)                                                            \n",
            "                                                                 \n",
            " conv2d_22 (Conv2D)          (None, 30, 30, 64)        18496     \n",
            "                                                                 \n",
            " conv2d_23 (Conv2D)          (None, 30, 30, 64)        36928     \n",
            "                                                                 \n",
            " max_pooling2d_11 (MaxPoolin  (None, 15, 15, 64)       0         \n",
            " g2D)                                                            \n",
            "                                                                 \n",
            " flatten_5 (Flatten)         (None, 14400)             0         \n",
            "                                                                 \n",
            " dense_10 (Dense)            (None, 128)               1843328   \n",
            "                                                                 \n",
            " dropout_5 (Dropout)         (None, 128)               0         \n",
            "                                                                 \n",
            " dense_11 (Dense)            (None, 10)                1290      \n",
            "                                                                 \n",
            "=================================================================\n",
            "Total params: 1,910,186\n",
            "Trainable params: 1,910,186\n",
            "Non-trainable params: 0\n",
            "_________________________________________________________________\n"
          ]
        }
      ]
    },
    {
      "cell_type": "code",
      "source": [
        "history = model.fit(training_generator,batch_size=128,epochs=5,verbose=1,validation_data=validation_generator)\n"
      ],
      "metadata": {
        "colab": {
          "base_uri": "https://localhost:8080/"
        },
        "id": "b9ep2TxX2-9L",
        "outputId": "de0d3957-5a3d-4d25-8d9c-3639832c45ce"
      },
      "execution_count": 32,
      "outputs": [
        {
          "output_type": "stream",
          "name": "stdout",
          "text": [
            "Epoch 1/5\n",
            "96/96 [==============================] - 727s 8s/step - loss: 0.6890 - accuracy: 0.8143 - val_loss: 6.5549 - val_accuracy: 0.5162\n",
            "Epoch 2/5\n",
            "96/96 [==============================] - 15s 157ms/step - loss: 0.0240 - accuracy: 0.9916 - val_loss: 9.3158 - val_accuracy: 0.5286\n",
            "Epoch 3/5\n",
            "96/96 [==============================] - 15s 155ms/step - loss: 0.0161 - accuracy: 0.9946 - val_loss: 9.6119 - val_accuracy: 0.5455\n",
            "Epoch 4/5\n",
            "96/96 [==============================] - 15s 156ms/step - loss: 0.0162 - accuracy: 0.9954 - val_loss: 10.0190 - val_accuracy: 0.5467\n",
            "Epoch 5/5\n",
            "96/96 [==============================] - 15s 156ms/step - loss: 0.0044 - accuracy: 0.9990 - val_loss: 12.7094 - val_accuracy: 0.5374\n"
          ]
        }
      ]
    },
    {
      "cell_type": "code",
      "source": [
        "model.save('/content/drive/MyDrive/Colab Notebooks/CNN_fruit.h5')"
      ],
      "metadata": {
        "id": "IhW9cqms7QBJ"
      },
      "execution_count": 34,
      "outputs": []
    },
    {
      "cell_type": "code",
      "source": [
        "from keras.models import load_model\n",
        "model=load_model('/content/drive/MyDrive/Colab Notebooks/CNN_fruit.h5')"
      ],
      "metadata": {
        "id": "W3eIyPlL5iox"
      },
      "execution_count": 35,
      "outputs": []
    },
    {
      "cell_type": "code",
      "source": [
        "plt.plot(history.history['accuracy'])\n",
        "plt.plot(history.history['val_accuracy'])\n",
        "plt.title('accuracy')\n",
        "plt.ylabel('accuracy')\n",
        "plt.xlabel('epoch')\n",
        "plt.legend(['train','validation'],loc='upper left')\n",
        "plt.show()"
      ],
      "metadata": {
        "colab": {
          "base_uri": "https://localhost:8080/",
          "height": 295
        },
        "id": "aU84W-0h7YZ0",
        "outputId": "f75e7352-f689-4188-f4b8-f757eb844751"
      },
      "execution_count": 36,
      "outputs": [
        {
          "output_type": "display_data",
          "data": {
            "text/plain": [
              "<Figure size 432x288 with 1 Axes>"
            ],
            "image/png": "[encoded data removed]"
          },
          "metadata": {
            "needs_background": "light"
          }
        }
      ]
    },
    {
      "cell_type": "code",
      "source": [
        "from keras.preprocessing.image import load_img\n",
        "from keras.preprocessing.image import img_to_array\n",
        "img=load_img('dau.jpeg',target_size=(60,60,3))\n",
        "plt.imshow(img)"
      ],
      "metadata": {
        "colab": {
          "base_uri": "https://localhost:8080/",
          "height": 285
        },
        "id": "117NdUvt7aGZ",
        "outputId": "4bae4f73-b7b1-4f63-c962-a44835a7a108"
      },
      "execution_count": 43,
      "outputs": [
        {
          "output_type": "execute_result",
          "data": {
            "text/plain": [
              "<matplotlib.image.AxesImage at 0x7f437a212390>"
            ]
          },
          "metadata": {},
          "execution_count": 43
        },
        {
          "output_type": "display_data",
          "data": {
            "text/plain": [
              "<Figure size 432x288 with 1 Axes>"
            ],
            "image/png": "[encoded data removed]"
          },
          "metadata": {
            "needs_background": "light"
          }
        }
      ]
    },
    {
      "cell_type": "code",
      "source": [
        "img=img_to_array(img)  # tạo mảng\n",
        "#img = img[:,:,0]  #hinh test là 3 màu RGB, nhưng tâp train là 1 màu xám\n",
        "img=img.reshape(1,60,60,3)\n",
        "img=img.astype('float32')\n",
        "img=img/255\n",
        "import numpy as np\n",
        "np.argmax(model.predict(img),axis=1)   #vi tri so 46\n"
      ],
      "metadata": {
        "colab": {
          "base_uri": "https://localhost:8080/"
        },
        "id": "yrMc-BPi7cpE",
        "outputId": "85a4b9f5-072a-4e11-8ccf-73a4a88a7670"
      },
      "execution_count": 44,
      "outputs": [
        {
          "output_type": "execute_result",
          "data": {
            "text/plain": [
              "array([6])"
            ]
          },
          "metadata": {},
          "execution_count": 44
        }
      ]
    },
    {
      "cell_type": "code",
      "source": [
        "training_generator.class_indices"
      ],
      "metadata": {
        "colab": {
          "base_uri": "https://localhost:8080/"
        },
        "id": "rEMx3kfDB82F",
        "outputId": "eaf6022e-7bb6-4fcb-c288-22ff5cb00b63"
      },
      "execution_count": 41,
      "outputs": [
        {
          "output_type": "execute_result",
          "data": {
            "text/plain": [
              "{'Banana': 0,\n",
              " 'Cherry 1': 1,\n",
              " 'Corn': 2,\n",
              " 'Limes': 3,\n",
              " 'Mandarine': 4,\n",
              " 'Raspberry': 5,\n",
              " 'Strawberry': 6,\n",
              " 'Watermelon': 7,\n",
              " 'qua_mo': 8,\n",
              " 'quả_bơ': 9}"
            ]
          },
          "metadata": {},
          "execution_count": 41
        }
      ]
    }
  ]
}